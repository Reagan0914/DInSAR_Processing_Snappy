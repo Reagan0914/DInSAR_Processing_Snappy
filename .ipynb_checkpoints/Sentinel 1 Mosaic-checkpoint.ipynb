{
 "cells": [
  {
   "cell_type": "code",
   "execution_count": 5,
   "metadata": {},
   "outputs": [],
   "source": [
    "import snappy\n",
    "import snappyConfig, snappyOperators as sp\n",
    "from os.path import join\n",
    "from glob import iglob\n",
    "import numpy as np\n",
    "import subprocess\n",
    "import jpy\n",
    "from multiprocessing import Process, Pool\n",
    "from snappy import WKTReader\n",
    "from snappy import HashMap\n",
    "from snappy import GPF\n",
    "import matplotlib.pyplot as plt\n",
    "import shapefile\n",
    "import pygeoif\n",
    "\n",
    "shp_file_path = \"E:\\Sentinel 1 SAR Processing\\Sentinel_Mosaic\\Data\\Spatial Data\\NPL_adm0.shp\"\n",
    "shp_file = shapefile.Reader(shp_file_path)\n",
    "\n",
    "g = []\n",
    "\n",
    "for s in shp_file.shapes():\n",
    "    g.append(pygeoif.geometry.as_shape(s))\n",
    "    \n",
    "m = pygeoif.MultiPoint(g)\n",
    "\n",
    "wkt = str(m.wkt).replace(\"MULTIPOINT\", \"POLYGON(\") + \")\"\n",
    "\n",
    "geometry = WKTReader().read(wkt)"
   ]
  },
  {
   "cell_type": "code",
   "execution_count": 9,
   "metadata": {},
   "outputs": [],
   "source": [
    "processing_output_dir = r\"E:\\Sentinel 1 SAR Processing\\Sentinel_Mosaic\\Processing\"\n",
    "output_dir = r\"E:\\Sentinel 1 SAR Processing\\Sentinel_Mosaic\\Temp\"\n",
    "\n",
    "Product_PATH = r\"E:\\Sentinel 1 SAR Processing\\Sentinel_Mosaic\\Data\"\n",
    "S1_input_files = sorted(list(iglob(join(Product_PATH, 'S1*.zip'))))\n",
    "\n",
    "# Projection\n",
    "UTM_WGS84 = \"GEOGCS[\\\"WGS84(DD)\\\",DATUM[\\\"WGS84\\\",SPHEROID[\\\"WGS84\\\", 6378137.0, 298.257223563]],\" \\\n",
    "            \"PRIMEM[\\\"Greenwich\\\", 0.0],UNIT[\\\"degree\\\", 0.017453292519943295],AXIS[\\\"Geodetic longitude\\\", EAST],\" \\\n",
    "            \"AXIS[\\\"Geodetic latitude\\\", NORTH]] \" \n",
    "\n",
    "\n",
    "output_dir = r\"E:\\Sentinel 1 SAR Processing\\Sentinel_Mosaic\\Output\"\n",
    "\n",
    "def S1_moasic_preprocessing(inFile):\n",
    "    # Raw File\n",
    "    #inFile = S1_input_files[0]\n",
    "\n",
    "    # Read File\n",
    "    read_out = sp.read(inFile)\n",
    "    print(\"Read Complete: {}\".format(read_out.getName()))\n",
    "    # read_out.getName())\n",
    "\n",
    "    # Apply Orbit File\n",
    "    orb_out = sp.ApplyOrbitFile(read_out)\n",
    "    print(\"Apply Orbit File Complete\")\n",
    "    # orb_out.getName())\n",
    "\n",
    "    # Radiometric Calibration\n",
    "    cal_out = sp.RadiometricCalibration(orb_out)\n",
    "    print(\"Calibration Complete\")\n",
    "    #print(cal_out.getName())\n",
    "\n",
    "    # Multilook\n",
    "    mul_out = sp.Multilook(cal_out)\n",
    "    #print(mul_out.getName())\n",
    "    print(\"Multilook Complete\")\n",
    "\n",
    "    # Subset\n",
    "    parameters = HashMap()\n",
    "    parameters.put(\"copyMetadata\", True)\n",
    "    parameters.put(\"GeoRegion\", geometry)\n",
    "    sub_out = GPF.createProduct(\"Subset\", parameters, mul_out)\n",
    "    print(\"Finished Subsetting\")\n",
    "    \n",
    "    # Terrain Correction\n",
    "    TC_out = sp.TerrainCorrection(sub_out, UTM_WGS84)\n",
    "    #print(TC_out.getName())\n",
    "    print(\"Terrain Correction Complete\")\n",
    "    return TC_out\n",
    "    # Write \n",
    "    #print(\"Writing Terrain Corrected Output\")\n",
    "    #sp.write(TC_out, output_dir + \"/\" + TC_out.getName())  \n",
    "    #print(\"Finished Writing Terrain Corrected Product: {}\".format(TC_out.getName()))"
   ]
  },
  {
   "cell_type": "code",
   "execution_count": 10,
   "metadata": {},
   "outputs": [
    {
     "name": "stdout",
     "output_type": "stream",
     "text": [
      "Read Complete: S1A_IW_GRDH_1SDV_20200111T000302_20200111T000327_030745_038671_1CC4\n",
      "Apply Orbit File Complete\n",
      "Calibration Complete\n",
      "Multilook Complete\n",
      "Finished Subsetting\n",
      "Terrain Correction Complete\n"
     ]
    }
   ],
   "source": [
    "prd = S1_moasic_preprocessing(S1_input_files[0])"
   ]
  },
  {
   "cell_type": "code",
   "execution_count": 6,
   "metadata": {},
   "outputs": [],
   "source": [
    "def plotBand(product, band, vmin, vmax):\n",
    "    band = product.getBand(band)\n",
    "    w = band.getRasterWidth()\n",
    "    h = band.getRasterHeight()\n",
    "    print(w, h)\n",
    "    band_data = np.zeros(w * h, np.float32)\n",
    "    band.readPixels(0, 0, w, h, band_data)\n",
    "    band_data.shape = h, w\n",
    "    width = 12\n",
    "    height = 12\n",
    "    plt.figure(figsize=(width, height))\n",
    "    imgplot = plt.imshow(band_data, cmap=plt.cm.binary, vmin=vmin, vmax=vmax)\n",
    "    return imgplot"
   ]
  },
  {
   "cell_type": "code",
   "execution_count": 13,
   "metadata": {},
   "outputs": [
    {
     "data": {
      "text/plain": [
       "['Sigma0_VH', 'Sigma0_VV']"
      ]
     },
     "execution_count": 13,
     "metadata": {},
     "output_type": "execute_result"
    }
   ],
   "source": [
    "list(prd.getBandNames())"
   ]
  },
  {
   "cell_type": "code",
   "execution_count": null,
   "metadata": {},
   "outputs": [],
   "source": [
    "plotBand(prd, \"Sigma0_VV\", 0, 750)"
   ]
  },
  {
   "cell_type": "code",
   "execution_count": null,
   "metadata": {},
   "outputs": [],
   "source": []
  }
 ],
 "metadata": {
  "kernelspec": {
   "display_name": "Python 2",
   "language": "python",
   "name": "python2"
  },
  "language_info": {
   "codemirror_mode": {
    "name": "ipython",
    "version": 2
   },
   "file_extension": ".py",
   "mimetype": "text/x-python",
   "name": "python",
   "nbconvert_exporter": "python",
   "pygments_lexer": "ipython2",
   "version": "2.7.15"
  }
 },
 "nbformat": 4,
 "nbformat_minor": 2
}
