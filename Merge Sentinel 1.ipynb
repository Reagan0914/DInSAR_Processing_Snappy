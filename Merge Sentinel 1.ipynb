{
 "cells": [
  {
   "cell_type": "code",
   "execution_count": 1,
   "metadata": {},
   "outputs": [],
   "source": [
    "#------------Import Libraries---------------#\n",
    "from os.path import join \n",
    "import subprocess\n",
    "import shutil\n",
    "import snappy\n",
    "from glob import iglob\n",
    "from snappy import ProductIO\n",
    "from snappy import GPF\n",
    "from snappy import HashMap\n",
    "from snappy import jpy\n",
    "from datetime import datetime\n",
    "import snappyConfig, snappyOperators as sp"
   ]
  },
  {
   "cell_type": "code",
   "execution_count": 2,
   "metadata": {},
   "outputs": [],
   "source": [
    "#--------------Declare Input and Output Directories-------------------------#\n",
    "product_PATH = r\"D:\\Sentinel-1 Subsidence\\Raw Data\"\n",
    "output_dir = r\"D:\\Sentinel-1 Subsidence\\Raw Data\"\n",
    "input_files = sorted(list(iglob(join(product_PATH, 'S1*.zip'))))"
   ]
  },
  {
   "cell_type": "code",
   "execution_count": 3,
   "metadata": {},
   "outputs": [
    {
     "name": "stdout",
     "output_type": "stream",
     "text": [
      "\n",
      "D:\\Sentinel-1 Subsidence\\Raw Data\\S1A_IW_SLC__1SDV_20200516T005158_20200516T005226_032583_03C61F_B7AC.zip\n",
      "D:\\Sentinel-1 Subsidence\\Raw Data\\S1A_IW_SLC__1SDV_20200516T005224_20200516T005251_032583_03C61F_C089.zip\n",
      "\n",
      "D:\\Sentinel-1 Subsidence\\Raw Data\\S1A_IW_SLC__1SDV_20200609T005159_20200609T005227_032933_03D094_1BC4.zip\n",
      "D:\\Sentinel-1 Subsidence\\Raw Data\\S1A_IW_SLC__1SDV_20200609T005225_20200609T005252_032933_03D094_E18E.zip\n"
     ]
    }
   ],
   "source": [
    "date = []\n",
    "for f in input_files:\n",
    "    date.append(f.split(\" \")[-1].split(\"_\")[5][:8])\n",
    "\n",
    "files_to_merge = []\n",
    "for i in range(len(date)-1):\n",
    "    if date[i] == date[i+1]:\n",
    "        print(\"\\n\" + \"{}\".format(input_files[i]) + \"\\n\" + \"{}\".format(input_files[i+1]))\n",
    "        files_to_merge.append(input_files[i])\n",
    "        files_to_merge.append(input_files[i+1])"
   ]
  },
  {
   "cell_type": "code",
   "execution_count": 5,
   "metadata": {},
   "outputs": [],
   "source": [
    "date = []\n",
    "for f in input_files:\n",
    "    date.append(f.split(\" \")[-1].split(\"_\")[5][:8])\n",
    "\n",
    "def find_files_to_merge(list_of_input_files):\n",
    "    files_to_merge = []\n",
    "    for i in range(len(date)-1):\n",
    "        if date[i] == date[i+1]:\n",
    "            #print(\"\\n\" + \"{}\".format(input_files[i]) + \"\\n\" + \"{}\".format(input_files[i+1]))\n",
    "            files_to_merge.append(list_of_input_files[i])\n",
    "            files_to_merge.append(list_of_input_files[i+1])\n",
    "    return files_to_merge"
   ]
  },
  {
   "cell_type": "code",
   "execution_count": 11,
   "metadata": {},
   "outputs": [
    {
     "data": {
      "text/plain": [
       "['D:\\\\Sentinel-1 Subsidence\\\\Raw Data\\\\S1A_IW_SLC__1SDV_20200516T005158_20200516T005226_032583_03C61F_B7AC.zip',\n",
       " 'D:\\\\Sentinel-1 Subsidence\\\\Raw Data\\\\S1A_IW_SLC__1SDV_20200516T005224_20200516T005251_032583_03C61F_C089.zip',\n",
       " 'D:\\\\Sentinel-1 Subsidence\\\\Raw Data\\\\S1A_IW_SLC__1SDV_20200609T005159_20200609T005227_032933_03D094_1BC4.zip',\n",
       " 'D:\\\\Sentinel-1 Subsidence\\\\Raw Data\\\\S1A_IW_SLC__1SDV_20200609T005225_20200609T005252_032933_03D094_E18E.zip']"
      ]
     },
     "execution_count": 11,
     "metadata": {},
     "output_type": "execute_result"
    }
   ],
   "source": [
    "files_to_merge = find_files_to_merge(input_files)\n",
    "files_to_merge"
   ]
  },
  {
   "cell_type": "code",
   "execution_count": 33,
   "metadata": {},
   "outputs": [],
   "source": [
    "def read_files_to_merge(list_of_files_to_merge):\n",
    "    read_files=[]\n",
    "    for i in range(len(list_of_files_to_merge)-1):\n",
    "        if list_of_files_to_merge[i].split(\" \")[-1].split(\"_\")[5][:8] == list_of_files_to_merge[i+1].split(\" \")[-1].split(\"_\")[5][:8]:\n",
    "            #print(list_of_files_to_merge[i], list_of_files_to_merge[i+1])\n",
    "            read_files.append((sp.read(list_of_files_to_merge[i]), sp.read(list_of_files_to_merge[i+1])))\n",
    "    return read_files"
   ]
  },
  {
   "cell_type": "code",
   "execution_count": 34,
   "metadata": {},
   "outputs": [
    {
     "data": {
      "text/plain": [
       "[(org.esa.snap.core.datamodel.Product(objectRef=0x000000005D2FF9C0),\n",
       "  org.esa.snap.core.datamodel.Product(objectRef=0x000000005D2FF940)),\n",
       " (org.esa.snap.core.datamodel.Product(objectRef=0x000000005D2FEAB0),\n",
       "  org.esa.snap.core.datamodel.Product(objectRef=0x000000005D2FEA50))]"
      ]
     },
     "execution_count": 34,
     "metadata": {},
     "output_type": "execute_result"
    }
   ],
   "source": [
    "read_files = read_files_to_merge(files_to_merge)\n",
    "read_files"
   ]
  },
  {
   "cell_type": "code",
   "execution_count": 44,
   "metadata": {},
   "outputs": [
    {
     "data": {
      "text/plain": [
       "org.esa.snap.core.datamodel.Product(objectRef=0x000000005D2FEAB0)"
      ]
     },
     "execution_count": 44,
     "metadata": {},
     "output_type": "execute_result"
    }
   ],
   "source": [
    "for i in range(len(read_files)):\n",
    "    for j in range(len())"
   ]
  },
  {
   "cell_type": "code",
   "execution_count": null,
   "metadata": {},
   "outputs": [],
   "source": [
    "sp.SliceAssembly(sp.TOPSAR_Split(read_files[i], \"IW1\", 8, 9, \"VV\"), sp.TOPSAR_Split(read_files[i], \"IW1\", 1, 2, \"VV\")) "
   ]
  },
  {
   "cell_type": "code",
   "execution_count": 6,
   "metadata": {},
   "outputs": [
    {
     "name": "stdout",
     "output_type": "stream",
     "text": [
      "Finished Process: Slice Assembly\n"
     ]
    }
   ],
   "source": [
    "def merge():\n",
    "    \n",
    "    read_files = []\n",
    "    for i in range(len(files_to_merge)-1):\n",
    "    if files_to_merge[i].split(\" \")[-1].split(\"_\")[5][:8] == files_to_merge[i+1].split(\" \")[-1].split(\"_\")[5][:8]:\n",
    "        #print(files_to_merge[i], files_to_merge[i+1])\n",
    "        read_files.append((sp.read(files_to_merge[i]), sp.read(files_to_merge[i+1])))\n",
    "    file1 = sp.read(read_files[0])\n",
    "    file2 = sp.read(files_to_merge[1])\n",
    "merged_product = sp.SliceAssembly((sp.TOPSAR_Split(file1, \"IW1\", 8, 9, \"VV\"),sp.TOPSAR_Split(file2, \"IW1\", 1, 2, \"VV\")))"
   ]
  },
  {
   "cell_type": "code",
   "execution_count": 30,
   "metadata": {},
   "outputs": [
    {
     "name": "stdout",
     "output_type": "stream",
     "text": [
      "org.esa.snap.core.datamodel.Product[name=S1A_IW_SLC__1SDV_20200516T005158_20200516T005226_032583_03C61F_B7AC]\n",
      "org.esa.snap.core.datamodel.Product[name=S1A_IW_SLC__1SDV_20200516T005224_20200516T005251_032583_03C61F_C089]\n",
      "org.esa.snap.core.datamodel.Product[name=S1A_IW_SLC__1SDV_20200609T005159_20200609T005227_032933_03D094_1BC4]\n",
      "org.esa.snap.core.datamodel.Product[name=S1A_IW_SLC__1SDV_20200609T005225_20200609T005252_032933_03D094_E18E]\n"
     ]
    }
   ],
   "source": [
    "for i in read_files:\n",
    "    for j in i:\n",
    "        print(j)"
   ]
  },
  {
   "cell_type": "code",
   "execution_count": null,
   "metadata": {},
   "outputs": [],
   "source": []
  }
 ],
 "metadata": {
  "kernelspec": {
   "display_name": "Python 2",
   "language": "python",
   "name": "python2"
  },
  "language_info": {
   "codemirror_mode": {
    "name": "ipython",
    "version": 2
   },
   "file_extension": ".py",
   "mimetype": "text/x-python",
   "name": "python",
   "nbconvert_exporter": "python",
   "pygments_lexer": "ipython2",
   "version": "2.7.15"
  }
 },
 "nbformat": 4,
 "nbformat_minor": 2
}
